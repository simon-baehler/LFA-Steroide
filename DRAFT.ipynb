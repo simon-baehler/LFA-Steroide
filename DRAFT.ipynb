{
 "cells": [
  {
   "cell_type": "code",
   "execution_count": 29,
   "metadata": {
    "collapsed": false
   },
   "outputs": [
    {
     "name": "stdout",
     "output_type": "stream",
     "text": [
      "[[    2.           120.6260829    137.4930833  ...,     1.4660353\n",
      "             nan    26.31862079]\n",
      " [    5.           755.2787141    814.26646    ...,    21.06796794\n",
      "             nan    26.68809407]\n",
      " [    6.           141.2050915    154.5465116  ...,     3.1601437\n",
      "             nan    25.24470461]\n",
      " ..., \n",
      " [ 1126.                    nan    60.53009286 ...,     6.21483115\n",
      "      9.98248399    24.5775163 ]\n",
      " [ 1127.           108.5834786    165.7337127  ...,     7.05026191\n",
      "     30.66490588    24.01241807]\n",
      " [ 1128.           181.5327551    108.4946127  ...,    11.74202216\n",
      "      9.17934858    30.80073749]]\n"
     ]
    }
   ],
   "source": [
    "import os\n",
    "import numpy as np\n",
    "\n",
    "import pandas as pd\n",
    "import matplotlib.pyplot as plt\n",
    "from scipy.stats import norm\n",
    "import scipy.spatial.distance as ssd\n",
    "from random import randint\n",
    "from random import shuffle\n",
    "import glob\n",
    "import plotly.plotly as py\n",
    "import pylab as P\n",
    "\n",
    "%matplotlib inline \n",
    "\n",
    "\n",
    "\n",
    "# other datas\n",
    "path = './datas/'\n",
    "\n",
    "# Reading file\n",
    "\n",
    "from numpy import genfromtxt\n",
    "records_matrix_personal = genfromtxt(path + 'Skipogh Steroids_cat2VClear.csv', delimiter=';')\n",
    "records_matrix_personal = records_matrix_personal[1::]\n",
    "\n",
    "participant_ids = records_matrix_personal[:,0]\n",
    "participant_ids = np.array(participant_ids)\n",
    "#print participant_ids\n",
    "\n",
    "headers_personal = [\"ID\",\"waistc1\",\"bw\",\"bia_fmkg\",\"hipcirc1\",\"armcicrc1_l\",\n",
    "                    \"skinf2_1\",\"bsa_dubois\",\"bia_fmp\",\"kid_vol\",\"crap\",\"ura\",\n",
    "                    \"dbp5\",\"sbp\",\"cuff_sh\",\"ud_mlkg\",\"ckd_epi\",\"sex\",\"crp\"]\n",
    "\n",
    "#print headers_personal\n",
    "#print records_matrix_personal\n",
    "\n",
    "\n",
    "\n",
    "records_matrix_steroid = genfromtxt(path + 'Skipogh Steroids_original.csv', delimiter=';')\n",
    "records_matrix_steroid = records_matrix_steroid[1::]\n",
    "\n",
    "headers_steroid = [\"id\",\"ccr_andro_d\",\"ccr_etio_d\",\"ccr_s_ad_17b_d\",\"ccr_s_at_d\",\n",
    "                   \"ccr_sa_dihydrotest_d\",\"ccr_saad3a17b_d\",\"ccr_testosterone_d\",\n",
    "                   \"ccr_estriol_d\",\"ccr_l7b_estradiol_d\",\"ccr_dha_d\",\n",
    "                   \"ccr_l6a_oh_dha_d\",\"ccr_s_pt_d\",\"ccr_tha_d\",\"ccr_thb_d\",\n",
    "                   \"ccr_sa_thb_d\",\"ccr_thaldo_d\",\"ccr_thdoc_d\",\"ccr_l8_oh_tha_d\",\n",
    "                   \"ccr_pd_d\",\"ccr_pt_d\",\"ccr_pt_one_d\",\"ccr_ths_d\",\"ccr_cortisol_d\",\n",
    "                   \"cr_l8_oh_f_d\",\"ccr_thf_d\",\"ccr_sa_thf_d\",\"ccr_a_cortol_d\",\n",
    "                   \"ccr_b_cortol_d\",\"ccr_llb_oh_andro_d\",\"ccr_llb_oh_etio_d\",\n",
    "                   \"ccr_cortisone_d\",\"ccr_the_d\",\"ccr_a_cortolone_d\",\"ccr_b_cortolone_d\",\n",
    "                   \"ccr_ll_oxo_etio_d\",\"ccr_sb_oh_f_d\",\"ccr_zoa_dhe_d\",\"ccr_zoa_dhf_d\",\n",
    "                   \"ccr_zob_dhe_d\",\"ccr_zob_dhf_d\",\"bmi\"]\n",
    "\n",
    "#print headers_steroid\n",
    "#print records_matrix_steroid\n",
    "\n",
    "mask = [idx in participant_ids for idx in records_matrix_steroid[:,0]]\n",
    "\n",
    "records_matrix_steroid = records_matrix_steroid[mask]\n",
    "\n",
    "# les participants sont les mêmes dans les 2 sets\n",
    "\n",
    "# records_matrix_steroid => dataset steroid \n",
    "# records_matrix_personal -> dataset others\n",
    "\n",
    "\n",
    "\n"
   ]
  },
  {
   "cell_type": "code",
   "execution_count": null,
   "metadata": {
    "collapsed": true
   },
   "outputs": [],
   "source": []
  }
 ],
 "metadata": {
  "kernelspec": {
   "display_name": "Python 2",
   "language": "python",
   "name": "python2"
  },
  "language_info": {
   "codemirror_mode": {
    "name": "ipython",
    "version": 2
   },
   "file_extension": ".py",
   "mimetype": "text/x-python",
   "name": "python",
   "nbconvert_exporter": "python",
   "pygments_lexer": "ipython2",
   "version": "2.7.13"
  }
 },
 "nbformat": 4,
 "nbformat_minor": 2
}
