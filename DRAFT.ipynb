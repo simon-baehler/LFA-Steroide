{
 "cells": [
  {
   "cell_type": "code",
   "execution_count": 2,
   "metadata": {
    "collapsed": false
   },
   "outputs": [
    {
     "name": "stdout",
     "output_type": "stream",
     "text": [
      "<type 'file'>\n"
     ]
    },
    {
     "ename": "AttributeError",
     "evalue": "'file' object has no attribute 'readLines'",
     "output_type": "error",
     "traceback": [
      "\u001b[0;31m---------------------------------------------------------------------------\u001b[0m",
      "\u001b[0;31mAttributeError\u001b[0m                            Traceback (most recent call last)",
      "\u001b[0;32m<ipython-input-2-6f76871c82da>\u001b[0m in \u001b[0;36m<module>\u001b[0;34m()\u001b[0m\n\u001b[1;32m     28\u001b[0m \u001b[0;31m# Reading the data\u001b[0m\u001b[0;34m\u001b[0m\u001b[0;34m\u001b[0m\u001b[0m\n\u001b[1;32m     29\u001b[0m \u001b[0;31m#matrice =  [l.strip().split(';') for l in records_matrix.readlines()[0::]]\u001b[0m\u001b[0;34m\u001b[0m\u001b[0;34m\u001b[0m\u001b[0m\n\u001b[0;32m---> 30\u001b[0;31m \u001b[0mmatrice_personal\u001b[0m \u001b[0;34m=\u001b[0m \u001b[0;34m[\u001b[0m\u001b[0ml\u001b[0m\u001b[0;34m.\u001b[0m\u001b[0mstrip\u001b[0m\u001b[0;34m(\u001b[0m\u001b[0;34m)\u001b[0m\u001b[0;34m.\u001b[0m\u001b[0msplit\u001b[0m\u001b[0;34m(\u001b[0m\u001b[0;34m','\u001b[0m\u001b[0;34m)\u001b[0m \u001b[0;32mfor\u001b[0m \u001b[0ml\u001b[0m \u001b[0;32min\u001b[0m \u001b[0mrecords_matrix_personal\u001b[0m\u001b[0;34m.\u001b[0m\u001b[0mreadLines\u001b[0m\u001b[0;34m(\u001b[0m\u001b[0;34m)\u001b[0m\u001b[0;34m]\u001b[0m\u001b[0;34m\u001b[0m\u001b[0m\n\u001b[0m\u001b[1;32m     31\u001b[0m \u001b[0;34m\u001b[0m\u001b[0m\n\u001b[1;32m     32\u001b[0m \u001b[0;34m\u001b[0m\u001b[0m\n",
      "\u001b[0;31mAttributeError\u001b[0m: 'file' object has no attribute 'readLines'"
     ]
    }
   ],
   "source": [
    "import os\n",
    "import numpy as np\n",
    "\n",
    "import pandas as pd\n",
    "import matplotlib.pyplot as plt\n",
    "from scipy.stats import norm\n",
    "import scipy.spatial.distance as ssd\n",
    "from random import randint\n",
    "from random import shuffle\n",
    "import glob\n",
    "import plotly.plotly as py\n",
    "import pylab as P\n",
    "\n",
    "%matplotlib inline \n",
    "\n",
    "\n",
    "\n",
    "# other datas\n",
    "# Skipogh Steroids_cat2.csv\n",
    "path = './datas/'\n",
    "\n",
    "# Reading file\n",
    "\n",
    "records_matrix_personal = open(path + 'Skipogh Steroids_cat2.csv')\n",
    "\n",
    "print type(records_matrix_personal)\n",
    "\n",
    "# Reading the data \n",
    "#matrice =  [l.strip().split(';') for l in records_matrix.readlines()[0::]]\n",
    "matrice_personal = [l.strip().split(',') for l in records_matrix_personal.readLines()]\n",
    "\n",
    "\n",
    "records_matrix_personal.seek(0)\n",
    "personal_info = records_matrix_personal.readlines()[0].strip().split(',')\n",
    "\n",
    "# Conversion of read lists to ndarrays.\n",
    "matrice = np.array(matrice)\n",
    "steroid = np.array(steroid[1:])\n",
    "\n",
    "matrice_personal = np.array(matrice_personal)\n",
    "personal_info = np.array(personal_info)\n",
    "\n",
    "print matrice_personal\n",
    "\n",
    "print personal_info\n",
    "\n"
   ]
  }
 ],
 "metadata": {
  "kernelspec": {
   "display_name": "Python 2",
   "language": "python",
   "name": "python2"
  },
  "language_info": {
   "codemirror_mode": {
    "name": "ipython",
    "version": 2
   },
   "file_extension": ".py",
   "mimetype": "text/x-python",
   "name": "python",
   "nbconvert_exporter": "python",
   "pygments_lexer": "ipython2",
   "version": "2.7.13"
  }
 },
 "nbformat": 4,
 "nbformat_minor": 2
}
