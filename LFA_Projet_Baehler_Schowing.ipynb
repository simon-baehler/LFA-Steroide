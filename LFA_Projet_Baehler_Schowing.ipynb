{
 "cells": [
  {
   "cell_type": "markdown",
   "metadata": {},
   "source": [
    "# LFA - Projet 2017\n",
    "## Steroïds et BMI\n",
    "\n",
    "### Simon Baehler et Thibault Schowing\n",
    "\n",
    "#### Contexte \n",
    "\n",
    "Les données proviennent du projet SKIPOGH. *SKIPOGH (Swiss Kidney Project on Genes in Hypertension) est l’acronyme du Projet Suisse sur la génétique de l’hypertension et du rein; son but est d'explorer le rôle de la génétique et de l'environnement (la nutrition, l'activité physique et le mode de vie) sur la régulation de la pression sanguine ainsi que la fonction des reins. SKIPOGH vise également à enrichir les connaissances sur les statuts de santé des habitants des cantons de Lausanne, Genève et Berne. Cette étude permettra aux scientifiques d'évaluer à quel degré les paramètres tels que la tension, la taille des reins et ses fonctions, le poids corporel et le métabolisme sont héréditaires. L'étude SKIPOGH fait partie de EPOGH (Projet européen sur les gènes dans l'hypertension), une étude internationale explorant les déterminants génétiques de la tension artérielle (BP) dans la population générale et suit en grande partie le même protocole standardisé.* (http://www.skipogh.ch, Consulté le 09.03.2017)\n",
    "\n",
    "\n",
    "Ce set de données contient des informations concernant les quantités de divers stéroïdes naturels dans plus de 1’120 personnes. Ce set de données est composé de 40 variables d’entrée qui représentent, chacune, 1 stéroïde différent exprimée par une valeur continue et une variable de sortie représentant la valeur de l’IMC.\n",
    "\n",
    "\n",
    "**Quel est la provenance des données (c'est bien skipogh ?) ça vient de l'urine ou du sang ? Quelles sont les unités de mesures ?**\n",
    "\n",
    "-> urine (test cumulé 12h journée 12h nuit ou 24h - vérifier) \n",
    "## Todo: \n"
   ]
  },
  {
   "cell_type": "markdown",
   "metadata": {},
   "source": [
    "|Variable\t|Info|\n",
    "|----------|----------|\n",
    "|ccr_andro_d\t|androgens|\n",
    "|ccr_etio_d\t|androgens|\n",
    "|ccr_s_ad_17b_d\t|androgens|\n",
    "|ccr_s_at_d\t|androgens|\n",
    "|ccr_sa_dihydrotest_d\t|androgens|\n",
    "|ccr_saad3a17b_d\t|androgens|\n",
    "|ccr_testosterone_d\t|androgens|\n",
    "|ccr_estriol_d\t|estrogens|\n",
    "|ccr_l7b_estradiol_d\t|estrogens|\n",
    "|ccr_dha_d\tandrogen |precursors|\n",
    "|ccr_l6a_oh_dha_d\t|androgen precursors|\n",
    "|ccr_s_pt_d\t|androgen precursors|\n",
    "|ccr_tha_d\t|mineralocorticoid and precursors|\n",
    "|ccr_thb_d\t|mineralocorticoid and precursors|\n",
    "|ccr_sa_thb_d\t|mineralocorticoid and precursors|\n",
    "|ccr_thaldo_d\t|mineralocorticoid and precursors|\n",
    "|ccr_thdoc_d\t|mineralocorticoid and precursors|\n",
    "|ccr_l8_oh_tha_d\t|mineralocorticoid and precursors|\n",
    "|ccr_pd_d\t|glucocorticoid precursors|\n",
    "|ccr_l7_HP_d\t|glucocorticoid precursors|\n",
    "|ccr_pt_d|\tglucocorticoid precursors|\n",
    "|ccr_pt_one_d|\tglucocorticoid precursors|\n",
    "|ccr_ths_d\t|glucocorticoid precursors|\n",
    "|ccr_cortisol_d\t|glucocorticoids|\n",
    "|ccr_l8_oh_f_d\t|glucocorticoids|\n",
    "|ccr_thf_d|\tglucocorticoids|\n",
    "|ccr_sa_thf_d|\tglucocorticoids|\n",
    "|ccr_a_cortol_d\t|glucocorticoids|\n",
    "|ccr_b_cortol_d\t|glucocorticoids|\n",
    "|ccr_llb_oh_andro_d|\tglucocorticoids|\n",
    "|ccr_llb_oh_etio_d\t|glucocorticoids|\n",
    "|ccr_cortisone_d\t|glucocorticoids|\n",
    "|ccr_the_d\t|glucocorticoids|\n",
    "|ccr_a_cortolone_d\t|glucocorticoids|\n",
    "|ccr_b_cortolone_d\t|glucocorticoids|\n",
    "|ccr_ll_oxo_etio_d|\tglucocorticoids|\n",
    "|ccr_sb_oh_f_d\t|glucocorticoids|\n",
    "|ccr_zoa_dhe_d|\tglucocorticoids|\n",
    "|ccr_zoa_dhf_d\t|glucocorticoids|\n",
    "|ccr_zob_dhe_d|\tglucocorticoids|\n",
    "|ccr_zob_dhf_d| Glucocorticoids|\n",
    "|IMC\t|Indice de masse corporelle|\n"
   ]
  },
  {
   "cell_type": "markdown",
   "metadata": {},
   "source": [
    "# Question de recherche\n",
    "\n",
    "L'objectif de ce projet est de savoir si l'indice de masse corporelle (IMC ou BMI en anglais) est lié à la quantité de stéroïdes présents dans le corps. Dans le cas où l'algorithme nous permettrait de réaliser une bonne classification, il faudrait trouver quels sont les stéroïdes qui sont les plus affectés par l'IMC. Dans le cas ou la classification ne serait pas pertinante, d'autres questions pourraient être posées, par exemple déterminer s'il y a un impact des stéroïdes sur la pression systolique ou diastolique. \n",
    "\n",
    "\n"
   ]
  },
  {
   "cell_type": "markdown",
   "metadata": {},
   "source": [
    "# Exploration\n",
    "\n"
   ]
  },
  {
   "cell_type": "code",
   "execution_count": 72,
   "metadata": {
    "collapsed": false
   },
   "outputs": [
    {
     "name": "stdout",
     "output_type": "stream",
     "text": [
      "[['0' '1' '2' ..., '1126' '1127' '1128']\n",
      " ['1' '2' '1' ..., '2' '0' '3']]\n",
      "(1, 41)\n",
      "[ 480.  380.  112.   54.   21.   19.   12.    8.    5.    1.    0.    0.\n",
      "    0.    1.    0.    0.    0.    0.    0.    0.    0.    0.    0.    0.\n",
      "    0.    0.    0.    0.    0.    0.    0.    0.    0.    0.    0.    0.\n",
      "    0.    0.    0.    0.   36.]\n",
      "[0, 1, 2, 3, 4, 5, 6, 7, 8, 9, 10, 11, 12, 13, 14, 15, 16, 17, 18, 19, 20, 21, 22, 23, 24, 25, 26, 27, 28, 29, 30, 31, 32, 33, 34, 35, 36, 37, 38, 39, 40]\n"
     ]
    },
    {
     "data": {
      "image/png": "[encoded data removed]",
      "text/plain": [
       "<matplotlib.figure.Figure at 0x7f0ddd3cb050>"
      ]
     },
     "metadata": {},
     "output_type": "display_data"
    }
   ],
   "source": [
    "import os\n",
    "import numpy as np\n",
    "\n",
    "import pandas as pd\n",
    "import matplotlib.pyplot as plt\n",
    "from scipy.stats import norm\n",
    "import scipy.spatial.distance as ssd\n",
    "from random import randint\n",
    "from random import shuffle\n",
    "import glob\n",
    "import plotly.plotly as py\n",
    "\n",
    "%matplotlib inline \n",
    "\n",
    "\n",
    "\n",
    "\n",
    "# Skipogh Steroids_cat2.csv\n",
    "path = './datas/'\n",
    "\n",
    "# Reading file\n",
    "records_matrix = open(path + 'Skipogh Steroids_original.csv')\n",
    "\n",
    "# Reading the data \n",
    "matrice =  [l.strip().split(';') for l in records_matrix.readlines()[1::]]\n",
    "\n",
    "# Reading the \n",
    "records_matrix.seek(0)\n",
    "steroid = records_matrix.readlines()[0].strip().split(';')\n",
    "\n",
    "# Conversion of read lists to ndarrays.\n",
    "matrice = np.array(matrice)\n",
    "steroid = np.array(steroid[1:])\n",
    "\n",
    "#print steroid\n",
    "#print matrice\n",
    "\n",
    "missing_participant = []\n",
    "\n",
    "i = 0\n",
    "for participant in matrice:\n",
    "    missing_participant.append([participant[0]])\n",
    "    \n",
    "    missing = 0\n",
    "    for data in participant[1:-1]:\n",
    "        \n",
    "        if(data == ''):\n",
    "            missing = missing + 1\n",
    "            \n",
    "    missing_participant[i].append(missing)\n",
    "    i = i + 1\n",
    "    \n",
    "\n",
    "missing_participant = np.array(missing_participant)\n",
    "transposed = missing_participant.transpose()\n",
    "print transposed\n",
    "\n",
    "\n",
    "count_missing_data = [np.zeros(41)]\n",
    "count_missing_data = np.array(count_missing_data)\n",
    "print count_missing_data.shape\n",
    "\n",
    "count_missing_data = count_missing_data[0]\n",
    "count_missing_data\n",
    "\n",
    "for i in range(1129):\n",
    "    #print \"a\"\n",
    "    #print int(transposed[1][i])\n",
    "    #count_missing_data[i]\n",
    "    \n",
    "    \n",
    "    count_missing_data[int(transposed[1][i])] = count_missing_data[int(transposed[1][i])] + 1\n",
    "\n",
    "\n",
    "print count_missing_data   \n",
    "print range(41)\n",
    "    \n",
    "plt.hist(count_missing_data,  bins='auto')\n",
    "plt.show()"
   ]
  }
 ],
 "metadata": {
  "kernelspec": {
   "display_name": "Python 2",
   "language": "python",
   "name": "python2"
  },
  "language_info": {
   "codemirror_mode": {
    "name": "ipython",
    "version": 2
   },
   "file_extension": ".py",
   "mimetype": "text/x-python",
   "name": "python",
   "nbconvert_exporter": "python",
   "pygments_lexer": "ipython2",
   "version": "2.7.13"
  }
 },
 "nbformat": 4,
 "nbformat_minor": 2
}
