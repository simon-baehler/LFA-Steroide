{
 "cells": [
  {
   "cell_type": "markdown",
   "metadata": {},
   "source": [
    "# LFA - Projet 2017\n",
    "## Steroïds et BMI\n",
    "\n",
    "### Simon Baehler et Thibault Schowing\n",
    "\n",
    "#### Contexte \n",
    "\n",
    "Les données proviennent du projet SKIPOGH. *SKIPOGH (Swiss Kidney Project on Genes in Hypertension) est l’acronyme du Projet Suisse sur la génétique de l’hypertension et du rein; son but est d'explorer le rôle de la génétique et de l'environnement (la nutrition, l'activité physique et le mode de vie) sur la régulation de la pression sanguine ainsi que la fonction des reins. SKIPOGH vise également à enrichir les connaissances sur les statuts de santé des habitants des cantons de Lausanne, Genève et Berne. Cette étude permettra aux scientifiques d'évaluer à quel degré les paramètres tels que la tension, la taille des reins et ses fonctions, le poids corporel et le métabolisme sont héréditaires. L'étude SKIPOGH fait partie de EPOGH (Projet européen sur les gènes dans l'hypertension), une étude internationale explorant les déterminants génétiques de la tension artérielle (BP) dans la population générale et suit en grande partie le même protocole standardisé.* (http://www.skipogh.ch, Consulté le 09.03.2017)\n",
    "\n",
    "\n",
    "Ce set de données contient des informations concernant les quantités de divers stéroïdes naturels dans plus de 1’120 personnes. Ce set de données est composé de 40 variables d’entrée qui représentent, chacune, 1 stéroïde différent exprimée par une valeur continue et une variable de sortie représentant la valeur de l’IMC.\n",
    "\n",
    "\n",
    "**Quel est la provenance des données (c'est bien skipogh ?) ça vient de l'urine ou du sang ? Quelles sont les unités de mesures ?**\n",
    "\n",
    "-> urine (test cumulé 12h journée 12h nuit ou 24h - vérifier) \n",
    "## Todo: \n"
   ]
  },
  {
   "cell_type": "markdown",
   "metadata": {},
   "source": [
    "|Variable\t|Info|\n",
    "|----------|----------|\n",
    "|ccr_andro_d\t|androgens|\n",
    "|ccr_etio_d\t|androgens|\n",
    "|ccr_s_ad_17b_d\t|androgens|\n",
    "|ccr_s_at_d\t|androgens|\n",
    "|ccr_sa_dihydrotest_d\t|androgens|\n",
    "|ccr_saad3a17b_d\t|androgens|\n",
    "|ccr_testosterone_d\t|androgens|\n",
    "|ccr_estriol_d\t|estrogens|\n",
    "|ccr_l7b_estradiol_d\t|estrogens|\n",
    "|ccr_dha_d\tandrogen |precursors|\n",
    "|ccr_l6a_oh_dha_d\t|androgen precursors|\n",
    "|ccr_s_pt_d\t|androgen precursors|\n",
    "|ccr_tha_d\t|mineralocorticoid and precursors|\n",
    "|ccr_thb_d\t|mineralocorticoid and precursors|\n",
    "|ccr_sa_thb_d\t|mineralocorticoid and precursors|\n",
    "|ccr_thaldo_d\t|mineralocorticoid and precursors|\n",
    "|ccr_thdoc_d\t|mineralocorticoid and precursors|\n",
    "|ccr_l8_oh_tha_d\t|mineralocorticoid and precursors|\n",
    "|ccr_pd_d\t|glucocorticoid precursors|\n",
    "|ccr_l7_HP_d\t|glucocorticoid precursors|\n",
    "|ccr_pt_d|\tglucocorticoid precursors|\n",
    "|ccr_pt_one_d|\tglucocorticoid precursors|\n",
    "|ccr_ths_d\t|glucocorticoid precursors|\n",
    "|ccr_cortisol_d\t|glucocorticoids|\n",
    "|ccr_l8_oh_f_d\t|glucocorticoids|\n",
    "|ccr_thf_d|\tglucocorticoids|\n",
    "|ccr_sa_thf_d|\tglucocorticoids|\n",
    "|ccr_a_cortol_d\t|glucocorticoids|\n",
    "|ccr_b_cortol_d\t|glucocorticoids|\n",
    "|ccr_llb_oh_andro_d|\tglucocorticoids|\n",
    "|ccr_llb_oh_etio_d\t|glucocorticoids|\n",
    "|ccr_cortisone_d\t|glucocorticoids|\n",
    "|ccr_the_d\t|glucocorticoids|\n",
    "|ccr_a_cortolone_d\t|glucocorticoids|\n",
    "|ccr_b_cortolone_d\t|glucocorticoids|\n",
    "|ccr_ll_oxo_etio_d|\tglucocorticoids|\n",
    "|ccr_sb_oh_f_d\t|glucocorticoids|\n",
    "|ccr_zoa_dhe_d|\tglucocorticoids|\n",
    "|ccr_zoa_dhf_d\t|glucocorticoids|\n",
    "|ccr_zob_dhe_d|\tglucocorticoids|\n",
    "|ccr_zob_dhf_d| Glucocorticoids|\n",
    "|IMC\t|Indice de masse corporelle|\n"
   ]
  },
  {
   "cell_type": "markdown",
   "metadata": {},
   "source": [
    "# Question de recherche\n",
    "\n",
    "L'objectif de ce projet est de savoir si l'indice de masse corporelle (IMC ou BMI en anglais) est lié à la quantité de stéroïdes présents dans le corps. Dans le cas où l'algorithme nous permettrait de réaliser une bonne classification, il faudrait trouver quels sont les stéroïdes qui sont les plus affectés par l'IMC. Dans le cas ou la classification ne serait pas pertinante, d'autres questions pourraient être posées, par exemple déterminer s'il y a un impact des stéroïdes sur la pression systolique ou diastolique. \n",
    "\n",
    "\n"
   ]
  },
  {
   "cell_type": "markdown",
   "metadata": {},
   "source": [
    "# Exploration\n",
    "\n"
   ]
  },
  {
   "cell_type": "code",
   "execution_count": 1,
   "metadata": {
    "collapsed": false
   },
   "outputs": [
    {
     "name": "stdout",
     "output_type": "stream",
     "text": [
      "<type 'file'>\n"
     ]
    },
    {
     "data": {
      "image/png": "[encoded data removed]",
      "text/plain": [
       "<matplotlib.figure.Figure at 0x7f316b02ffd0>"
      ]
     },
     "metadata": {},
     "output_type": "display_data"
    }
   ],
   "source": [
    "import os\n",
    "import numpy as np\n",
    "\n",
    "import pandas as pd\n",
    "import matplotlib.pyplot as plt\n",
    "from scipy.stats import norm\n",
    "import scipy.spatial.distance as ssd\n",
    "from random import randint\n",
    "from random import shuffle\n",
    "import glob\n",
    "import plotly.plotly as py\n",
    "import pylab as P\n",
    "\n",
    "%matplotlib inline \n",
    "\n",
    "\n",
    "\n",
    "# other datas\n",
    "# Skipogh Steroids_cat2.csv\n",
    "path = './datas/'\n",
    "\n",
    "# Reading file\n",
    "records_matrix = open(path + 'Skipogh Steroids_original.csv')\n",
    "\n",
    "\n",
    "print type(records_matrix)\n",
    "\n",
    "# Reading the data \n",
    "matrice =  [l.strip().split(';') for l in records_matrix.readlines()[0::]]\n",
    "\n",
    "# Reading the first line\n",
    "records_matrix.seek(0)\n",
    "steroid = records_matrix.readlines()[0].strip().split(';')\n",
    "\n",
    "\n",
    "# Conversion of read lists to ndarrays.\n",
    "matrice = np.array(matrice)\n",
    "steroid = np.array(steroid[1:])\n",
    "\n",
    "\n",
    "\n",
    "#Calcul du nombre de participants avec x € [0 - 40] données (stéroides) manquantes\n",
    "def missing_(matrice):\n",
    "\n",
    "    missing_participant = []\n",
    "\n",
    "    i = 0\n",
    "    for participant in matrice:\n",
    "        missing_participant.append([participant[0]])\n",
    "\n",
    "        missing = 0\n",
    "        for data in participant[1:-1]:\n",
    "\n",
    "            if(data == ''):\n",
    "                missing = missing + 1\n",
    "\n",
    "        missing_participant[i].append(missing)\n",
    "        i = i + 1\n",
    "\n",
    "\n",
    "    missing_participant = np.array(missing_participant)\n",
    "    transposed = missing_participant.transpose()\n",
    "    transposed_val_int = []\n",
    "    for elem in transposed[1]:\n",
    "        transposed_val_int.append(int(elem))\n",
    "\n",
    "\n",
    "    plt.ylabel(\"Nb Participants\")\n",
    "    plt.xlabel(\"Nb Donnees manquantes\")\n",
    "    plt.hist(transposed_val_int,  bins='auto')\n",
    "    plt.title(\"Nombre de donnees manquantes\")\n",
    "    plt.show()\n",
    "\n",
    "missing_(matrice)"
   ]
  },
  {
   "cell_type": "markdown",
   "metadata": {},
   "source": [
    "On remarque qu'une grande quantité de participants n'ont aucune donnée manquante et que ce chiffre va à la baisse jussqu'à 1 participants qui a 13 données manquantes. Exception pour 36 personnes qui ont 40 données manquantes, soit la totalité des données qui sont abscente. \n",
    "\n",
    "Pour les participants qui ont des données en moins, il va falloir soit les supprimer soit combler les données vides avec une estimation via les autres valeurs. Les participants dont la totalité des données est manquantes seront ignorés et pour ceux dont quelques données sont abscente, les trous seront comblés en estimant les valeurs manquantes à l'aide des participants dont aucune valeur ne manque. \n",
    "\n",
    "\n"
   ]
  },
  {
   "cell_type": "code",
   "execution_count": 4,
   "metadata": {
    "collapsed": false
   },
   "outputs": [],
   "source": [
    "\n",
    "def missing_steroid(matrice):\n",
    "    bySteroid = matrice.transpose()\n",
    "\n",
    "    missingSteroid = []\n",
    "\n",
    "    for line in bySteroid[1:-1]:\n",
    "        compteur = 0\n",
    "        for elem in line[1:]:\n",
    "\n",
    "            if elem == '':\n",
    "                compteur += 1\n",
    "        tab = [line[0], compteur]\n",
    "        missingSteroid.append(tab)\n",
    "\n",
    "    #print np.array(missingSteroid)\n",
    "    #[l.strip().split(';') for l in records_matrix.readlines()[0::]]\n",
    "    tmp = np.array(missingSteroid).transpose()\n",
    "    \n",
    "    print(\"Steroïds and number missing\")\n",
    "    names = tmp[0]\n",
    "    print names\n",
    "    \n",
    "    values = [int(l) for l in tmp[1]]\n",
    "    print values\n",
    "    \n",
    "    y_values = values\n",
    "    text_values = names\n",
    "    x_values = np.arange(1, len(text_values) + 1, 1)\n",
    "\n",
    "    plt.figure(figsize=(15,15), dpi=300)\n",
    "    plt.bar(x_values, y_values)\n",
    "    # Decide which ticks to replace.\n",
    "    #new_ticks = [str(y) for y in y_values]\n",
    "\n",
    "    plt.yticks()\n",
    "    plt.xticks(x_values, text_values,  rotation='vertical')\n",
    "    plt.title(\"Missing Steroid in dataset\")\n",
    "    plt.grid()\n",
    "    plt.show()\n"
   ]
  },
  {
   "cell_type": "code",
   "execution_count": 2,
   "metadata": {
    "collapsed": false
   },
   "outputs": [
    {
     "name": "stdout",
     "output_type": "stream",
     "text": [
      "[['' 'ccr_andro_d' 'ccr_etio_d' ..., 'ccr_zob_dhe_d' 'ccr_zob_dhf_d' 'bmi']\n",
      " ['0' '90.01550844' '36.93111074' ..., '4.229832662' '' '26.62156178']\n",
      " ['1' '53.51625598' '' ..., '3.394848648' '' '21.65728478']\n",
      " ..., \n",
      " ['1126' '' '60.53009286' ..., '6.214831155' '9.982483986' '24.5775163']\n",
      " ['1127' '108.5834786' '165.7337127' ..., '7.050261907' '30.66490588'\n",
      "  '24.01241807']\n",
      " ['1128' '181.5327551' '108.4946127' ..., '11.74202216' '9.179348582'\n",
      "  '30.80073749']]\n"
     ]
    },
    {
     "ename": "NameError",
     "evalue": "name 'missing_steroid' is not defined",
     "output_type": "error",
     "traceback": [
      "\u001b[0;31m---------------------------------------------------------------------------\u001b[0m",
      "\u001b[0;31mNameError\u001b[0m                                 Traceback (most recent call last)",
      "\u001b[0;32m<ipython-input-2-b8a2e701058f>\u001b[0m in \u001b[0;36m<module>\u001b[0;34m()\u001b[0m\n\u001b[1;32m      1\u001b[0m \u001b[0;32mprint\u001b[0m \u001b[0mmatrice\u001b[0m\u001b[0;34m\u001b[0m\u001b[0m\n\u001b[0;32m----> 2\u001b[0;31m \u001b[0mmissing_steroid\u001b[0m\u001b[0;34m(\u001b[0m\u001b[0mmatrice\u001b[0m\u001b[0;34m)\u001b[0m\u001b[0;34m\u001b[0m\u001b[0m\n\u001b[0m",
      "\u001b[0;31mNameError\u001b[0m: name 'missing_steroid' is not defined"
     ]
    }
   ],
   "source": [
    "print matrice\n",
    "missing_steroid(matrice)"
   ]
  },
  {
   "cell_type": "markdown",
   "metadata": {},
   "source": [
    "Comme on peut le voir ci-dessus, certains steroid manquent en grande quantité aussi."
   ]
  },
  {
   "cell_type": "code",
   "execution_count": null,
   "metadata": {
    "collapsed": false
   },
   "outputs": [],
   "source": [
    "\n",
    "toDelete = []\n",
    "dataset = []\n",
    "\n",
    "# Si un participant a plus de LIMIT_MISSING_VALUES manquantes, on le supprime du set.\n",
    "LIMIT_MISSING_VALUES = 25\n",
    "dataset.append(matrice[0].tolist())\n",
    "for i, line in zip( range(len(matrice)), matrice[1:]):\n",
    "    count = 0\n",
    "    \n",
    "    for item in line[1:]:\n",
    "        if item == '':\n",
    "            count += 1\n",
    "    if count >= LIMIT_MISSING_VALUES or line[-1] == '': \n",
    "        toDelete.append(i+1)\n",
    "    else:\n",
    "        dataset.append(line.tolist())\n",
    "\n",
    "\n",
    "\n",
    "dataset = np.array(dataset)\n",
    "\n",
    "missing_(dataset)\n",
    "missing_steroid(dataset)"
   ]
  },
  {
   "cell_type": "markdown",
   "metadata": {},
   "source": [
    "Le dataset est maintenant débarassé des participants qui ont LIMIT_MISSING_VALUES ou plus de données manquantes ou qui n'ont pas de BMI. Dans notre cas, 36 participants n'avaient aucune autre données que le BMI, et pas de BMI pour 2 d'entre eux. Ils ont été éliminés du dataset. \n",
    "\n"
   ]
  },
  {
   "cell_type": "code",
   "execution_count": null,
   "metadata": {
    "collapsed": true
   },
   "outputs": [],
   "source": []
  },
  {
   "cell_type": "code",
   "execution_count": null,
   "metadata": {
    "collapsed": false
   },
   "outputs": [],
   "source": [
    "dataset\n"
   ]
  },
  {
   "cell_type": "code",
   "execution_count": null,
   "metadata": {
    "collapsed": false
   },
   "outputs": [],
   "source": [
    "\n",
    "#print dataset[1,1:-1]\n",
    "#print len(dataset[1,1:-1])\n",
    "\n",
    "\n",
    "#print type(dataset)\n",
    "\n",
    "datasetFloat = []\n",
    "datasetFloat.append(dataset[0])\n",
    "\n",
    "\n",
    "for line in dataset[1:]:\n",
    "    tmp = []\n",
    "    #print line[:]\n",
    "    for col in line:\n",
    "        #print \"col: \" + col\n",
    "        if(col == \"\"):\n",
    "            tmp.append(None)\n",
    "        else:\n",
    "            \n",
    "            tmp.append(float(col))\n",
    "    \n",
    "    datasetFloat.append(tmp)\n",
    "\n",
    "datasetFloat = np.array(datasetFloat)\n",
    "        \n",
    "print datasetFloat[1:,1]\n",
    "print datasetFloat[1:,2]\n",
    "print datasetFloat[1:,-1]\n",
    "\n",
    "\n",
    "#print datasetFloat\n",
    "    \n",
    "# pour chaque steroid\n",
    "\n",
    "\n",
    "for i in range(len(dataset[1,1:-1])):\n",
    "    \n",
    "    x = datasetFloat[1:,-1]\n",
    "    y = datasetFloat[1:,i+1]\n",
    "    \n",
    "    \n",
    "\n",
    "    \n",
    "    plt.scatter(x,y,s=5)\n",
    "\n",
    "    plt.title(dataset[0,i])\n",
    "    plt.xlabel('x')\n",
    "    plt.ylabel('y')\n",
    "    plt.savefig('ScatterPlot.png')\n",
    "    plt.show()\n",
    " "
   ]
  },
  {
   "cell_type": "code",
   "execution_count": null,
   "metadata": {
    "collapsed": true
   },
   "outputs": [],
   "source": []
  }
 ],
 "metadata": {
  "kernelspec": {
   "display_name": "Python 2",
   "language": "python",
   "name": "python2"
  },
  "language_info": {
   "codemirror_mode": {
    "name": "ipython",
    "version": 2
   },
   "file_extension": ".py",
   "mimetype": "text/x-python",
   "name": "python",
   "nbconvert_exporter": "python",
   "pygments_lexer": "ipython2",
   "version": "2.7.13"
  }
 },
 "nbformat": 4,
 "nbformat_minor": 2
}
